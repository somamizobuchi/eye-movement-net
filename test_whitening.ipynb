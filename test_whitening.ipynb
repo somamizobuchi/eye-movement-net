{
 "cells": [
  {
   "cell_type": "code",
   "execution_count": 2,
   "metadata": {},
   "outputs": [],
   "source": [
    "from data import WhitenedDataset\n",
    "import torch\n",
    "from torch.utils.data import DataLoader\n",
    "from utils import accumulate_frames\n",
    "import matplotlib.pyplot as plt\n",
    "import numpy as np\n",
    "\n",
    "dataset = WhitenedDataset(\n",
    "  sampling_frequency=1000.,\n",
    "  pixels_per_degree=180.,\n",
    "  roi_size=32,\n",
    "  fixation_samples=256,\n",
    "  diffusion_constant=40.0 / 3600.0,\n",
    ")\n",
    "\n",
    "dataloader = DataLoader(dataset, batch_size=8, shuffle=True)\n",
    "\n",
    "input, target, target_idx, gaze_pos = next(iter(dataloader))\n"
   ]
  },
  {
   "cell_type": "code",
   "execution_count": 5,
   "metadata": {},
   "outputs": [
    {
     "data": {
      "image/png": "[encoded data removed]",
      "text/plain": [
       "<Figure size 640x480 with 1 Axes>"
      ]
     },
     "metadata": {},
     "output_type": "display_data"
    }
   ],
   "source": [
    "plt.figure()\n",
    "for i in range(1):\n",
    "  input, target, target_idx, gaze_pos = next(iter(dataloader))\n",
    "  plt.hist(gaze_pos.diff(2).flatten())\n",
    "  # plt.hist(gaze_pos[:,1].view(-1, gaze_pos.shape[2]).diff(1))\n"
   ]
  },
  {
   "cell_type": "code",
   "execution_count": 91,
   "metadata": {},
   "outputs": [],
   "source": [
    "recons = torch.stack(\n",
    "  [\n",
    "    accumulate_frames(frames, pos - pos[:, idx][:, None])\n",
    "    for frames, pos, idx in zip(\n",
    "        input,\n",
    "        gaze_pos[:, :, :],\n",
    "        target_idx,\n",
    "    )\n",
    "  ]\n",
    ")"
   ]
  },
  {
   "cell_type": "code",
   "execution_count": 2,
   "metadata": {},
   "outputs": [
    {
     "ename": "NameError",
     "evalue": "name 'np' is not defined",
     "output_type": "error",
     "traceback": [
      "\u001b[0;31m---------------------------------------------------------------------------\u001b[0m",
      "\u001b[0;31mNameError\u001b[0m                                 Traceback (most recent call last)",
      "Cell \u001b[0;32mIn[2], line 1\u001b[0m\n\u001b[0;32m----> 1\u001b[0m batch \u001b[38;5;241m=\u001b[39m \u001b[43mnp\u001b[49m\u001b[38;5;241m.\u001b[39mrandom\u001b[38;5;241m.\u001b[39mrandint(\u001b[38;5;28minput\u001b[39m\u001b[38;5;241m.\u001b[39mshape[\u001b[38;5;241m0\u001b[39m])\n\u001b[1;32m      3\u001b[0m plt\u001b[38;5;241m.\u001b[39mfigure()\n\u001b[1;32m      4\u001b[0m plt\u001b[38;5;241m.\u001b[39mplot(gaze_pos[batch,\u001b[38;5;241m0\u001b[39m])\n",
      "\u001b[0;31mNameError\u001b[0m: name 'np' is not defined"
     ]
    }
   ],
   "source": [
    "batch = np.random.randint(input.shape[0])\n",
    "\n",
    "plt.figure()\n",
    "plt.plot(gaze_pos[batch,0])\n",
    "plt.plot(gaze_pos[batch,1])\n",
    "\n",
    "show_n = 5\n",
    "fig, axs = plt.subplots(1, show_n)\n",
    "for i, frame in enumerate(input[batch,target_idx[batch]:target_idx[batch]+show_n]):\n",
    "  axs[i].imshow(frame)\n",
    "plt.show()\n",
    "\n",
    "fig, axs = plt.subplots(1, 2)\n",
    "axs[0].imshow(recons[batch])\n",
    "axs[1].imshow(target[batch])"
   ]
  },
  {
   "cell_type": "code",
   "execution_count": 70,
   "metadata": {},
   "outputs": [
    {
     "data": {
      "text/plain": [
       "torch.Size([8, 32, 32])"
      ]
     },
     "execution_count": 70,
     "metadata": {},
     "output_type": "execute_result"
    }
   ],
   "source": [
    "target.shape"
   ]
  }
 ],
 "metadata": {
  "kernelspec": {
   "display_name": "emnet_env",
   "language": "python",
   "name": "python3"
  },
  "language_info": {
   "codemirror_mode": {
    "name": "ipython",
    "version": 3
   },
   "file_extension": ".py",
   "mimetype": "text/x-python",
   "name": "python",
   "nbconvert_exporter": "python",
   "pygments_lexer": "ipython3",
   "version": "3.10.0"
  }
 },
 "nbformat": 4,
 "nbformat_minor": 2
}
